{
 "cells": [
  {
   "cell_type": "markdown",
   "metadata": {},
   "source": [
    "# Introduction to Machine Learning (CSCI-UA.473)\n",
    "\n",
    "## Linear Models for Regression and Classification"
   ]
  },
  {
   "cell_type": "markdown",
   "metadata": {},
   "source": [
    "## Question P1: Linear Regression (20 points total)"
   ]
  },
  {
   "cell_type": "markdown",
   "metadata": {},
   "source": [
    "A linear regression model is a linear function of the parameters of the model. Its output $y$ is a real number or a real vector, depending on the task definition. That is: \n",
    "$$\n",
    "y = w \\cdot x\n",
    "$$\n",
    "\n",
    "Implement, train, and test a linear regression model to predict the values of PSA. \n",
    "\n",
    "The dataset can be found here: https://web.stanford.edu/~hastie/ElemStatLearn/datasets/prostate.data \n",
    "The necessary information associated with the dataset can be found here: https://web.stanford.edu/~hastie/ElemStatLearn/datasets/prostate.info.txt\n",
    "\n",
    "Note that the last column indicates which observations belong to the training set and which ones belong to the test set. For the purpose of this exercise use the test set as your \"validation\" set. "
   ]
  },
  {
   "cell_type": "markdown",
   "metadata": {},
   "source": [
    "### P1.a: Loading the data, implementing the model, and finding the solution (10 points)"
   ]
  },
  {
   "cell_type": "markdown",
   "metadata": {},
   "source": [
    "#### Dataset ###\n",
    "Load the dataset and split it into train and validation sets. "
   ]
  },
  {
   "cell_type": "code",
   "execution_count": 2,
   "metadata": {
    "scrolled": false
   },
   "outputs": [],
   "source": [
    "import pandas as pd\n",
    "from tqdm import tqdm\n",
    "import autograd.numpy as np\n",
    "import matplotlib.pyplot as plt\n",
    "from autograd import grad, elementwise_grad\n",
    "\n",
    "dat_psa = pd.read_csv(\"prostate.csv\",sep=\",\")\n",
    "\n",
    "train = dat_psa['Train'] == \"T\"\n",
    "train_psa = dat_psa[train]\n",
    "test_psa = dat_psa[~train]"
   ]
  },
  {
   "cell_type": "markdown",
   "metadata": {},
   "source": [
    "#### Implement the model, find the solution ###\n",
    "1. Find the closed form solution and report the numbers on the validation set. \n",
    "2. Find another solution using LinearRegression module of scikit-learn and report any difference in numbers. "
   ]
  },
  {
   "cell_type": "code",
   "execution_count": 2,
   "metadata": {},
   "outputs": [
    {
     "data": {
      "text/plain": [
       "(0.5033798502381801, 0.5065276973976196)"
      ]
     },
     "execution_count": 2,
     "metadata": {},
     "output_type": "execute_result"
    }
   ],
   "source": [
    "import sklearn\n",
    "from sklearn.linear_model import LinearRegression\n",
    "\n",
    "#Define the X and Y\n",
    "X = train_psa.iloc[:, 1:9]\n",
    "Y = train_psa.iloc[:, 9]\n",
    "\n",
    "#Create our closed form solution\n",
    "X_mat = train_psa.iloc[:, 1:9].to_numpy()\n",
    "Y_vec = train_psa.iloc[:, 9].to_numpy()\n",
    "X_mat.transpose()\n",
    "B_vec = np.dot(np.dot(np.linalg.inv(np.dot(np.transpose(X_mat),X_mat)), np.transpose(X_mat)), Y_vec)\n",
    "\n",
    "#Use sklearn to create the model\n",
    "sk_model = LinearRegression()\n",
    "sk_model.fit(X,Y)\n",
    "\n",
    "#Predict the Validation Set Results\n",
    "val_X = test_psa.iloc[:, 1:9]\n",
    "val_Y = test_psa.iloc[:, 9]\n",
    "sk_Y = sk_model.predict(val_X)\n",
    "val_X_tr = np.transpose(val_X.to_numpy())\n",
    "cf_Y = np.dot(B_vec, val_X_tr)\n",
    "\n",
    "#Check RSS\n",
    "from sklearn.metrics import r2_score\n",
    "sk_score = r2_score(val_Y, sk_Y)\n",
    "cf_score = r2_score(val_Y, cf_Y)\n",
    "\n",
    "sk_score, cf_score"
   ]
  },
  {
   "cell_type": "markdown",
   "metadata": {},
   "source": [
    "### P1.b: Implement Ridge and Lasso regression (5 + 5 = 10 points)"
   ]
  },
  {
   "cell_type": "markdown",
   "metadata": {},
   "source": [
    "#### Ridge Regression\n",
    "Implement the Ridge regression and plot the values of coefficients for different values of the effective degrees of freedom $df(\\lambda)$: \n",
    "\n",
    "$$\n",
    "df(\\lambda) = [0, 1, 2, 3, 4, 5, 6, 7, 8, 9].\n",
    "$$\n",
    "\n",
    "Where the effective degrees of freedom $df(\\lambda)$ is defined as: \n",
    "\n",
    "$$ \n",
    "df(\\lambda) = trace \\left[{\\bf X}({\\bf X}^T {\\bf X} +  \\lambda {\\bf I})^{-1} {\\bf X}^T \\right]\n",
    "$$"
   ]
  },
  {
   "cell_type": "code",
   "execution_count": 3,
   "metadata": {},
   "outputs": [
    {
     "name": "stdout",
     "output_type": "stream",
     "text": [
      "[0    0.570626\n",
      "1    0.646121\n",
      "2   -0.018099\n",
      "3    0.138336\n",
      "4    0.741377\n",
      "5   -0.206830\n",
      "6    0.011973\n",
      "7    0.008744\n",
      "dtype: float64, 0    0.568265\n",
      "1    0.616976\n",
      "2   -0.016649\n",
      "3    0.137391\n",
      "4    0.643251\n",
      "5   -0.183007\n",
      "6    0.018918\n",
      "7    0.008539\n",
      "dtype: float64, 0    0.564127\n",
      "1    0.589340\n",
      "2   -0.015296\n",
      "3    0.137134\n",
      "4    0.570305\n",
      "5   -0.163392\n",
      "6    0.025321\n",
      "7    0.008345\n",
      "dtype: float64, 0    0.558949\n",
      "1    0.563653\n",
      "2   -0.014030\n",
      "3    0.137205\n",
      "4    0.513780\n",
      "5   -0.146735\n",
      "6    0.031008\n",
      "7    0.008167\n",
      "dtype: float64, 0    0.553153\n",
      "1    0.539965\n",
      "2   -0.012841\n",
      "3    0.137422\n",
      "4    0.468591\n",
      "5   -0.132279\n",
      "6    0.035966\n",
      "7    0.008010\n",
      "dtype: float64, 0    0.546998\n",
      "1    0.518174\n",
      "2   -0.011722\n",
      "3    0.137688\n",
      "4    0.431569\n",
      "5   -0.119535\n",
      "6    0.040242\n",
      "7    0.007871\n",
      "dtype: float64, 0    0.540650\n",
      "1    0.498127\n",
      "2   -0.010665\n",
      "3    0.137951\n",
      "4    0.400639\n",
      "5   -0.108162\n",
      "6    0.043908\n",
      "7    0.007751\n",
      "dtype: float64, 0    0.534215\n",
      "1    0.479656\n",
      "2   -0.009664\n",
      "3    0.138183\n",
      "4    0.374379\n",
      "5   -0.097919\n",
      "6    0.047034\n",
      "7    0.007647\n",
      "dtype: float64, 0    0.527767\n",
      "1    0.462603\n",
      "2   -0.008715\n",
      "3    0.138372\n",
      "4    0.351781\n",
      "5   -0.088624\n",
      "6    0.049689\n",
      "7    0.007557\n",
      "dtype: float64, 0    0.521355\n",
      "1    0.446819\n",
      "2   -0.007813\n",
      "3    0.138509\n",
      "4    0.332112\n",
      "5   -0.080138\n",
      "6    0.051935\n",
      "7    0.007481\n",
      "dtype: float64]\n",
      "[8.000000000000009, 7.69895166146297, 7.453003980566065, 7.245189639017012, 7.0652885262479055, 6.906697341817342, 6.7649128579751165, 6.636729897795155, 6.5197869057302125, 6.412293632191615]\n"
     ]
    },
    {
     "data": {
      "image/png": "[encoded data removed]",
      "text/plain": [
       "<Figure size 432x288 with 1 Axes>"
      ]
     },
     "metadata": {
      "needs_background": "light"
     },
     "output_type": "display_data"
    }
   ],
   "source": [
    "lambs = [0,1,2,3,4,5,6,7,8,9]\n",
    "w_ridge = []\n",
    "df_ridge = []\n",
    "\n",
    "for i in lambs:\n",
    "    df_ridge.append(np.trace(np.dot((X @ np.linalg.inv(X.T @ X + (i * np.identity(X.shape[1])))),X.T)))\n",
    "    w_ridge.append((np.linalg.inv((X.T @ X) + (i * np.identity(X.shape[1]))) @ X.T) @ Y)\n",
    "   \n",
    "ax = plt.gca()\n",
    "\n",
    "print(w_ridge)\n",
    "print(df_ridge)\n",
    "\n",
    "\n",
    "ax.plot(lambs, w_ridge, label=X.columns)\n",
    "plt.xlabel('λ')\n",
    "plt.ylabel('Weights')\n",
    "plt.title('Weights vs lambdas')\n",
    "plt.legend()\n",
    "plt.show()"
   ]
  },
  {
   "cell_type": "markdown",
   "metadata": {},
   "source": [
    "#### Lasso Regression\n",
    "Implement the Lasso regression and plot the values of coefficients for different values of the shrinkage parameters $s$: \n",
    "\n",
    "$$\n",
    "s = [0.0, 0.1, 0.2, 0.3, 0.4, 0.5, 0.6, 0.7, 0.8, 0.9, 1.0].\n",
    "$$\n",
    "\n",
    "Where the shrinkage parameters $s$ is defined as: \n",
    "\n",
    "$$ \n",
    "s = \\frac{t}{\\sum_{i=1}^p |\\beta_i|}, \n",
    "$$\n",
    "\n",
    "and $t$ is the sparsity penality in the Lasso equation. "
   ]
  },
  {
   "cell_type": "code",
   "execution_count": 4,
   "metadata": {},
   "outputs": [],
   "source": [
    "### Cancelled ###"
   ]
  },
  {
   "cell_type": "markdown",
   "metadata": {},
   "source": [
    "## Question P2: Gradient Descent (10 points total)\n",
    "\n",
    "In this problem you will implement gradient descent as a general purpose optimization algorithm.\n",
    "\n",
    "You will need the following packages below to do the homework. Please DO NOT import any other packages."
   ]
  },
  {
   "cell_type": "code",
   "execution_count": 5,
   "metadata": {},
   "outputs": [],
   "source": [
    "from scipy.stats import multivariate_normal as mvn"
   ]
  },
  {
   "cell_type": "markdown",
   "metadata": {},
   "source": [
    "### P2.a: Implement gradient descent with a fixed learning rate (5 points)\n",
    "\n",
    "Using autograd to compute the derivative, implement gradient descent with a fixed learning rate `lr` for a general scalar function `fun`."
   ]
  },
  {
   "cell_type": "code",
   "execution_count": 6,
   "metadata": {},
   "outputs": [],
   "source": [
    "\"\"\"\n",
    "Perform a fixed number of iterations of gradient descent on a function using a fixed learning rate. \n",
    "\n",
    "Input:\n",
    "    fun : function handle: function that takes in a numpy array of shape (d,) and returns a float\n",
    "    x0  : initial point: numpy array of shape (d,)\n",
    "    lr  : fixed learning rate: a positive float\n",
    "    iterations : number of iterations to perform: int\n",
    "    \n",
    "Return:\n",
    "    x   : minimizer to fun: numpy array of shape (d,)\n",
    "\"\"\"\n",
    "\n",
    "def gd_fixed(fun, x, lr):\n",
    "    \n",
    "    x = x - lr*fun(x)\n",
    "    return x"
   ]
  },
  {
   "cell_type": "markdown",
   "metadata": {},
   "source": [
    "### P2.b: Implement gradient descent with a variable learning rate ( 5 points)\n",
    "\n",
    "Sometimes it is necessary to decrease our learning rate as we iterate to help gradient descent converge. Implement gradient descent below where the learning rate at iteration $i$ is given by\n",
    "\n",
    "$$\n",
    "\\mathrm{lr}_i = \\frac{\\mathrm{lr}}{i+1}.\n",
    "$$"
   ]
  },
  {
   "cell_type": "code",
   "execution_count": 7,
   "metadata": {},
   "outputs": [],
   "source": [
    "\"\"\"\n",
    "Perform a fixed number of iterations of gradient descent on a function using a variable learning rate. \n",
    "\n",
    "Input:\n",
    "    fun : function handle: function that takes in a numpy array of shape (d,) and returns a float\n",
    "    x0  : initial point: numpy array of shape (d,)\n",
    "    lr  : initial learning rate: a positive float\n",
    "    iterations : number of iterations to perform: int\n",
    "    \n",
    "Return:\n",
    "    x   : minimizer to fun: numpy array of shape (d,)\n",
    "\"\"\"\n",
    "def gd_variable(fun, x, lr, iterations):\n",
    "    return x - (lr/(i+1))*fun(x)"
   ]
  },
  {
   "cell_type": "markdown",
   "metadata": {},
   "source": [
    "## Question P3: Logistic Regression (30 points total)\n",
    "\n",
    "You will now implement the logistic regression from scratch. "
   ]
  },
  {
   "cell_type": "markdown",
   "metadata": {},
   "source": [
    "### P3.a: Implement the logisitc unit (5 points)\n",
    "\n",
    "For binary classification with label $y \\in \\{0,1\\}$ we can model the posterior probability $p(y = 1 | x)$ with the logistic unit \n",
    "\n",
    "$$\n",
    "h(x; w) = \\frac{1}{1 + \\exp(-w^Tx)} .\n",
    "$$\n",
    "\n",
    "We will use the convention that $x_0 = 1$.  Implement this function below using the skeletal outline as a guide.  "
   ]
  },
  {
   "cell_type": "code",
   "execution_count": 8,
   "metadata": {},
   "outputs": [],
   "source": [
    "\"\"\"\n",
    "Evaluate the logistic unit h(x; w) on each point x in the dataset X (each row is a different data point). This code \n",
    "should be vectorized for efficient computation (i.e., no for loops).\n",
    "\n",
    "Input:\n",
    "    w: weight vector: numpy array of shape (d,) where d is the dimension\n",
    "    X: data: numpy array of shape (n,d) where n is the number of data points\n",
    "\n",
    "Return:\n",
    "    logits : h(x;w): a numpy array of shape (n,) that has the values \n",
    "\"\"\"\n",
    "def logistic_unit(X, w):\n",
    "    return 1/(1+np.exp(X @ -w.T))"
   ]
  },
  {
   "cell_type": "markdown",
   "metadata": {},
   "source": [
    "### P3.b: Implement the loss function (5 points)\n",
    "\n",
    "We have implicitly made the assumption that $y|x \\sim \\mathrm{Bernoulli}(h(x;w))$. If we have an iid dataset $\\{(x^i, y^i)\\}_{i=1}^N$, then we can write the likelihood of the data as: \n",
    "\n",
    "$$\n",
    "p(\\hat{y}| X, w) = \\prod_{i=1}^N p(y^i | x^i, w)\n",
    "$$\n",
    "\n",
    "We can learn the parameter $w$ by maximizing this probability (i.e. we find the maximum likelihood estimator) or equivalently minimizing the loss function $J(w) = -\\log p(\\hat{y} | X, w)$. Implement the loss function $J(w)$ using the skeletal outline below. In your implementation you may use the convention that $0 \\log 0 = 0$."
   ]
  },
  {
   "cell_type": "code",
   "execution_count": 9,
   "metadata": {},
   "outputs": [],
   "source": [
    "\"\"\"\n",
    "Compute the loss function using the formula you derived.  This code does not need to be vectorized and you\n",
    "may use the logistic_unit function.\n",
    "\n",
    "Input:\n",
    "    w : weight vector: numpy array of shape (d+1,) (remember that x_0 = 1)\n",
    "    X : dataset features: numpy array of shape (n,d)\n",
    "    y : dataset targets: numpy array of shape (n,) contains only 0's or 1's\n",
    "\n",
    "Return:\n",
    "    J : loss of w given X,y: float\n",
    "\"\"\"\n",
    "def loss(w, X, y):\n",
    "    a = np.log(logistic_unit(X, w))\n",
    "    b = np.log(1 - logistic_unit(X, w))\n",
    "    \n",
    "    J = 0\n",
    "    index = 0\n",
    "    for i, j in zip(a,b):\n",
    "        J -= np.sum(y[index]*i + (1-y[index])*j)\n",
    "        index += 1\n",
    "    return J"
   ]
  },
  {
   "cell_type": "markdown",
   "metadata": {},
   "source": [
    "### Making data (Nothing to do here)\n",
    "\n",
    "The following method generates random data to test your algorithm on.  **DO NOT CHANGE THE METHOD!**"
   ]
  },
  {
   "cell_type": "code",
   "execution_count": 14,
   "metadata": {},
   "outputs": [],
   "source": [
    "# The following method generates a random dataset.  DO NOT ALTER THIS METHOD.\n",
    "def make_data(n_samples = 500):\n",
    "    # Generate data features.\n",
    "    X1 = mvn.rvs(mean = np.array([1.1, 0]), cov = 0.2*np.eye(2), size = n_samples//2)\n",
    "    X2 = mvn.rvs(mean = np.array([-1.1, 0]), cov = 0.2*np.eye(2), size = n_samples - n_samples//2)\n",
    "    # Append data labels and combine.\n",
    "    X1 = np.hstack( (X1, np.ones((X1.shape[0], 1))))\n",
    "    X2 = np.hstack( (X2, np.zeros((X2.shape[0], 1))))\n",
    "    X = np.vstack([X1, X2])\n",
    "    # Randomly permute data.\n",
    "    np.random.shuffle(X)\n",
    "    return X"
   ]
  },
  {
   "cell_type": "markdown",
   "metadata": {},
   "source": [
    "### P3.c: Splitting the data for training and testing (5 points)\n",
    "\n",
    "We split the dataset into a training, validation, and test set. Use a 40/40/20 split (roughly 40/40/20 is fine). You do not need to use a random splitting, although in practice it is usually a good idea."
   ]
  },
  {
   "cell_type": "code",
   "execution_count": 15,
   "metadata": {},
   "outputs": [],
   "source": [
    "# We first generate some fake data.\n",
    "np.random.seed(2) # Don't change the random seed.\n",
    "data = make_data()\n",
    "X = data[:,:-1] # Features\n",
    "y = data[:,-1]  # Labels\n",
    "\n",
    "# We'll also augment the data so that x_0 = 1 for the intercept term.\n",
    "X = np.append(np.ones((len(X), 1)), X, axis = 1)\n",
    "\n",
    "\n",
    "# TO DO:\n",
    "## Your part starts here.\n",
    "X_train, y_train  = X[:int(0.4*len(X)),:], y[:int(0.4*len(X))]\n",
    "X_val, y_val  = X[int(0.4*len(X)):int(0.8*len(X)),:], y[int(0.4*len(X)):int(0.8*len(X))]\n",
    "X_test, y_test = X[int(0.8*len(X)):,:], y[int(0.8*len(X)):]\n",
    "## Ends here.\n"
   ]
  },
  {
   "cell_type": "markdown",
   "metadata": {},
   "source": [
    "### P3.d: Implement the model training (10 points)\n",
    "\n",
    "Now use your gradient descent function to learn the parameters $w$ using `5000` iterations. You may choose the learning rate and initial parameters $w_0$ for this problem. Compare both the fixed learning rate and variable learning rate gradient descents side by side (i.e., 2 subplots) by computing the loss after every `m=10` iterations. \n",
    "There are 4 things to do for this problem.\n",
    "\n",
    "1. Set the learning rate and initial points.\n",
    "2. Implement the loss function $J(w)$.\n",
    "3. Update the parameters using the two gradient descent methods.\n",
    "4. Compute the loss after every 10 iterations."
   ]
  },
  {
   "cell_type": "code",
   "execution_count": 19,
   "metadata": {},
   "outputs": [
    {
     "name": "stderr",
     "output_type": "stream",
     "text": [
      "100%|██████████| 5000/5000 [08:06<00:00, 10.29it/s]\n"
     ]
    },
    {
     "name": "stdout",
     "output_type": "stream",
     "text": [
      "[-0.84797338  7.87786253  1.78065866] [0.04158119 0.75859438 0.03293446]\n"
     ]
    },
    {
     "data": {
      "image/png": "[encoded data removed]",
      "text/plain": [
       "<Figure size 720x288 with 2 Axes>"
      ]
     },
     "metadata": {
      "needs_background": "light"
     },
     "output_type": "display_data"
    }
   ],
   "source": [
    "iterations = 5000        # Lots of iterations to see the training error go down.\n",
    "m = 10                   # Get the loss every m iterations.\n",
    "\n",
    "# TO DO: Set the learning rate.\n",
    "lr = 0.001               # You choose this value, try something small.\n",
    "\n",
    "\n",
    "\n",
    "## Store the loss values in these arrays.\n",
    "# Fixed learning rate.\n",
    "train_loss_fixed = np.zeros(iterations//m)\n",
    "val_loss_fixed = np.zeros(iterations//m)\n",
    "\n",
    "# Variable learning rate.\n",
    "train_loss_var = np.zeros(iterations//m)\n",
    "val_loss_var = np.zeros(iterations//m)\n",
    "\n",
    "\n",
    "# Set the initial values, either randomly or some fixed value.\n",
    "w1 = np.zeros(X_train.shape[1]) #basically setting to the number of training examples\n",
    "w2 = np.zeros(X_train.shape[1])\n",
    "\n",
    "# Write the loss function as a function of the parameter only.\n",
    "J = grad(lambda w: loss(w, X_train, y_train))\n",
    "\n",
    "\n",
    "for i in tqdm(range(iterations)):\n",
    "    # Get the updated parameters from gradient descent with a fixed learning rate.\n",
    "    w1 = gd_fixed(J, w1, lr)\n",
    "    # Get the updated parameters from gradient descent with a variable learning rate.\n",
    "    # Hint: You may either modify the gd_variable function above or call gd_fixed with a different learning rate.\n",
    "    w2 = gd_variable(J, w2, lr, i)\n",
    "    \n",
    "    # Only compute the loss every m iterations.\n",
    "    if np.mod(iterations, m) == 0: \n",
    "        # Compute the training and validation loss of the parameters found with the fixed learning rate.\n",
    "        train_loss_fixed[i//m] = loss(w1, X_train, y_train)\n",
    "        val_loss_fixed[i//m] = loss(w1, X_val, y_val)\n",
    "        # Compute the training and validation loss of the parameters found with a variable learning rate.\n",
    "        train_loss_var[i//m] = loss(w2, X_train, y_train)\n",
    "        val_loss_var[i//m] = loss(w2, X_val, y_val)\n",
    "\n",
    "print(w1, w2)\n",
    "## Plotting starts here.  Nothing to implement.\n",
    "its = np.arange(1, iterations + 1, m)\n",
    "fig, (ax1, ax2) = plt.subplots(1, 2, figsize = (10, 4))\n",
    "\n",
    "ax1.semilogy(its, train_loss_fixed, 'b-', label = 'Train')\n",
    "ax1.semilogy(its, val_loss_fixed, 'r-', label = 'Val')\n",
    "ax1.set_xlabel('Iteration')\n",
    "ax1.set_ylabel('Loss')\n",
    "ax1.set_title('GD with Fixed Learning Rate')\n",
    "ax1.grid()\n",
    "ax1.legend()\n",
    "\n",
    "ax2.semilogy(its, train_loss_var, 'b-', label = 'Train')\n",
    "ax2.semilogy(its, val_loss_var, 'r-', label = 'Val')\n",
    "ax2.set_xlabel('Iteration')\n",
    "ax2.set_ylabel('Loss')\n",
    "ax2.set_title('GD with Variable Learning Rate')\n",
    "ax2.grid()\n",
    "ax2.legend()\n",
    "\n",
    "plt.tight_layout();"
   ]
  },
  {
   "cell_type": "markdown",
   "metadata": {},
   "source": [
    "### P3.e: Evalute the model on the test set (5 points)\n",
    "\n",
    "Finally, we have trained our models and are ready to evaluate them on the test set. But first we need to define a discriminant function $f(x)$ which converts probabilities into discrete classes. It assigns the label $y = 1$ if $p(y = 1 | x) \\ge 0.5$ and $0$ otherwise. In other words, with a discriminant function we do not need the posterior probabilities but rather skip straight to the classification. Implement this discremenant function, infer the class for every point in the test set, and compute the following metric. \n",
    "\n",
    "For binary classification one way to check our classifier is to make a *confusion matrix* of our predictions.\n",
    "\n",
    "$$\n",
    "C = \\begin{bmatrix}\n",
    "\\text{Predict 0, Actual 0} & \\text{Predict 0, Actual 1}\\\\\n",
    "\\text{Predict 1, Actual 0} & \\text{Predict 1, Actual 1}\n",
    "\\end{bmatrix}\n",
    "$$\n",
    "\n",
    "The diagonal elements are the number of samples that are correctly classified.\n",
    "\n",
    "Use both trained models (fixed and variable learning rates) to classify samples in the test set according to whether $h(x_i; w) \\ge 0.5$ or not and print the confusion matrices. Also print the accuracy rate which is just the percentage of correctly classified examples for both models.\n",
    "\n",
    "\n",
    "\n"
   ]
  },
  {
   "cell_type": "code",
   "execution_count": 20,
   "metadata": {},
   "outputs": [
    {
     "name": "stdout",
     "output_type": "stream",
     "text": [
      "C_1 = \n",
      "[[51, 3], [1, 45]]\n",
      "C_2 = \n",
      "[[51, 1], [1, 47]]\n",
      "Fixed Learning Rate Accuracy    = 96.0%\n",
      "Variable Learning Rate Accuracy = 98.0%\n"
     ]
    }
   ],
   "source": [
    "C1 = np.zeros((2, 2)) # Confusion matrix for fixed learning rate.\n",
    "C2 = np.zeros((2, 2)) # Confusion matrix for variable learning rate.\n",
    "N = len(X_test)       # Number of test samples.\n",
    "\n",
    "\n",
    "## TO DO STARTS HERE:\n",
    "\n",
    "def predict_reg(X, w):\n",
    "    return (logistic_unit(X, w)>0.5).astype(int)\n",
    "\n",
    "test_y_f = predict_reg(X_test, w1)\n",
    "test_y_v = predict_reg(X_test, w2)\n",
    "\n",
    "FP_fixed = sum([1 if (i==1) and (j==0)  else 0 for i, j in zip(test_y_f, y_test)])\n",
    "TP_fixed = sum([1 if (i==1) and (j==1)  else 0 for i, j in zip(test_y_f, y_test)])\n",
    "FN_fixed = sum([1 if (i==0) and (j==1)  else 0 for i, j in zip(test_y_f, y_test)])\n",
    "TN_fixed = sum([1 if (i==0) and (j==0)  else 0 for i, j in zip(test_y_f, y_test)])\n",
    "\n",
    "FP_var = sum([1 if (i==1) and (j==0)  else 0 for i, j in zip(test_y_v, y_test)])\n",
    "TP_var = sum([1 if (i==1) and (j==1)  else 0 for i, j in zip(test_y_v, y_test)])\n",
    "FN_var = sum([1 if (i==0) and (j==1)  else 0 for i, j in zip(test_y_v, y_test)])\n",
    "TN_var = sum([1 if (i==0) and (j==0)  else 0 for i, j in zip(test_y_v, y_test)])\n",
    "\n",
    "C1 = [[TN_fixed, FN_fixed],\n",
    "    [FP_fixed, TP_fixed]]\n",
    "C2 = [[TN_var, FN_var],\n",
    "    [FP_var, TP_var]]\n",
    "\n",
    "# Compute the accuracy         \n",
    "acc1 = (TP_fixed + TN_fixed)/N\n",
    "acc2 = (TP_var + TN_var)/N\n",
    "\n",
    "# TO DO ENDS HERE.\n",
    "print(\"C_1 = \")\n",
    "print(C1)\n",
    "print(\"C_2 = \")\n",
    "print(C2)\n",
    "print('Fixed Learning Rate Accuracy    = {:0.1f}%'.format(100 * acc1))\n",
    "print('Variable Learning Rate Accuracy = {:0.1f}%'.format(100 * acc2))"
   ]
  }
 ],
 "metadata": {
  "kernelspec": {
   "display_name": "Python 3",
   "language": "python",
   "name": "python3"
  },
  "language_info": {
   "codemirror_mode": {
    "name": "ipython",
    "version": 3
   },
   "file_extension": ".py",
   "mimetype": "text/x-python",
   "name": "python",
   "nbconvert_exporter": "python",
   "pygments_lexer": "ipython3",
   "version": "3.8.8"
  }
 },
 "nbformat": 4,
 "nbformat_minor": 2
}
